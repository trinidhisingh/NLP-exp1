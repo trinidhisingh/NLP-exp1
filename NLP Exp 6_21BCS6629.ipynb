{
 "cells": [
  {
   "cell_type": "code",
   "execution_count": 4,
   "id": "b46f2e4d",
   "metadata": {},
   "outputs": [],
   "source": [
    "import nltk\n",
    "from nltk.sentiment import SentimentIntensityAnalyzer\n",
    "from textblob import TextBlob\n",
    "\n"
   ]
  },
  {
   "cell_type": "code",
   "execution_count": 5,
   "id": "bf21a25a",
   "metadata": {},
   "outputs": [],
   "source": [
    "def analyze_sentiment(review):\n",
    "    # NLTK's SentimentIntensityAnalyzer\n",
    "    sia = SentimentIntensityAnalyzer()\n",
    "    nltk_sentiment = sia.polarity_scores(review)\n",
    "\n",
    "    # TextBlob's sentiment analysis\n",
    "    tb_sentiment = TextBlob(review).sentiment\n",
    "\n",
    "    # Determine overall sentiment based on compound score from NLTK\n",
    "    sentiment = \"\"\n",
    "    if nltk_sentiment['compound'] >= 0.05:\n",
    "        sentiment = \"Positive 😀\"\n",
    "    elif nltk_sentiment['compound'] <= -0.05:\n",
    "        sentiment = \"Negative 😞\"\n",
    "    else:\n",
    "        sentiment = \"Neutral 😐\"\n",
    "\n",
    "    return nltk_sentiment, tb_sentiment, sentiment\n",
    "\n"
   ]
  },
  {
   "cell_type": "code",
   "execution_count": 6,
   "id": "db0aa03e",
   "metadata": {},
   "outputs": [
    {
     "name": "stdout",
     "output_type": "stream",
     "text": [
      "NLTK Sentiment Analysis: {'neg': 0.0, 'neu': 0.625, 'pos': 0.375, 'compound': 0.9298}\n",
      "TextBlob Sentiment Analysis: Sentiment(polarity=0.41500000000000004, subjectivity=0.54)\n",
      "Overall Sentiment: Positive 😀\n"
     ]
    }
   ],
   "source": [
    "# Example movie review\n",
    "review = \"I absolutely loved this movie! The acting was superb and the plot kept me on the edge of my seat the whole time. Definitely recommend it to everyone. 👍\"\n",
    "\n",
    "# Analyze sentiment\n",
    "nltk_sentiment, tb_sentiment, overall_sentiment = analyze_sentiment(review)\n",
    "\n",
    "# Output results\n",
    "print(\"NLTK Sentiment Analysis:\", nltk_sentiment)\n",
    "print(\"TextBlob Sentiment Analysis:\", tb_sentiment)\n",
    "print(\"Overall Sentiment:\", overall_sentiment)\n"
   ]
  },
  {
   "cell_type": "code",
   "execution_count": null,
   "id": "4b83badc",
   "metadata": {},
   "outputs": [],
   "source": []
  }
 ],
 "metadata": {
  "kernelspec": {
   "display_name": "Python 3 (ipykernel)",
   "language": "python",
   "name": "python3"
  },
  "language_info": {
   "codemirror_mode": {
    "name": "ipython",
    "version": 3
   },
   "file_extension": ".py",
   "mimetype": "text/x-python",
   "name": "python",
   "nbconvert_exporter": "python",
   "pygments_lexer": "ipython3",
   "version": "3.10.9"
  }
 },
 "nbformat": 4,
 "nbformat_minor": 5
}
